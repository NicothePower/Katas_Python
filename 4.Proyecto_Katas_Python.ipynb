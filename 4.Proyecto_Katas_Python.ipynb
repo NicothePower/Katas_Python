{
 "cells": [
  {
   "cell_type": "markdown",
   "id": "d1634791",
   "metadata": {},
   "source": [
    "## 4. PROYECTO: KATAS PYTHON"
   ]
  },
  {
   "cell_type": "markdown",
   "id": "cc144204",
   "metadata": {},
   "source": [
    "1.Escribe una función que reciba una cadena de texto como parámetro y devuelva un diccionario con las frecuencias de cada letra en la cadena. Los espacios no deben ser considerados."
   ]
  },
  {
   "cell_type": "code",
   "execution_count": 3,
   "id": "1477cebb",
   "metadata": {},
   "outputs": [
    {
     "name": "stdout",
     "output_type": "stream",
     "text": [
      "{'e': 5, 's': 2, 'm': 2, 'i': 4, 'p': 1, 'r': 3, 'j': 1, 'c': 2, 'o': 1, 'd': 1, 'k': 1, 'a': 2, 't': 1}\n"
     ]
    }
   ],
   "source": [
    "# Solicita al usuario que ingrese una cadena de texto\n",
    "cadena = input(\"Ingresa una cadena de texto cualquiera: \")\n",
    "\n",
    "# Función que calcula la frecuencia de cada letra, ignorando los espacios\n",
    "def frecuencias_letras(texto):\n",
    "    frecuencias = {}  # Diccionario para almacenar las frecuencias\n",
    "    for letra in texto:\n",
    "        if letra != ' ':  # Ignora los espacios\n",
    "            frecuencias[letra] = frecuencias.get(letra, 0) + 1  # Suma 1 a la frecuencia de la letra\n",
    "    return frecuencias\n",
    "\n",
    "# Llama a la función con la cadena ingresada y muestra el resultado\n",
    "frecuencias = frecuencias_letras(cadena)\n",
    "print(frecuencias)"
   ]
  },
  {
   "cell_type": "markdown",
   "id": "1144f9db",
   "metadata": {},
   "source": [
    "2. Dada una lista de números, obtén una nueva lista con el doble de cada valor. Usa la función map()"
   ]
  },
  {
   "cell_type": "code",
   "execution_count": null,
   "id": "be596bcd",
   "metadata": {},
   "outputs": [
    {
     "name": "stdout",
     "output_type": "stream",
     "text": [
      "Lista original: [1, 2, 3, 4, 5]\n",
      "Lista con el doble: [2, 4, 6, 8, 10]\n"
     ]
    }
   ],
   "source": [
    "# Lista inicial de números\n",
    "numeros = [1, 2, 3, 4, 5]\n",
    "\n",
    "# Usamos map() con una función lambda para multiplicar por 2 cada valor\n",
    "doble = list(map(lambda x: x * 2, numeros))\n",
    "\n",
    "print(\"Lista original:\", numeros)\n",
    "print(\"Lista con el doble:\", doble)\n"
   ]
  },
  {
   "cell_type": "markdown",
   "id": "dd1f59d9",
   "metadata": {},
   "source": [
    "3. Escribe una función que tome una lista de palabras y una palabra objetivo como parámetros. La función debe devolver una lista con todas las palabras de la lista original que contengan la palabra objetivo."
   ]
  },
  {
   "cell_type": "code",
   "execution_count": 5,
   "id": "433aca4b",
   "metadata": {},
   "outputs": [
    {
     "name": "stdout",
     "output_type": "stream",
     "text": [
      "Palabras que contienen 'cam': ['camino', 'camisa', 'cama', 'camarón']\n"
     ]
    }
   ],
   "source": [
    "def buscar_palabras(lista_palabras, objetivo):\n",
    "    \"\"\"\n",
    "    Busca palabras que contengan una subcadena objetivo.\n",
    "    :param lista_palabras: lista de strings\n",
    "    :param objetivo: string a buscar\n",
    "    :return: lista de palabras que contienen el objetivo\n",
    "    \"\"\"\n",
    "    return [palabra for palabra in lista_palabras if objetivo in palabra]\n",
    "\n",
    "palabras = [\"camino\", \"camisa\", \"cama\", \"luz\", \"camarón\"]\n",
    "resultado = buscar_palabras(palabras, \"cam\")\n",
    "\n",
    "print(\"Palabras que contienen 'cam':\", resultado)"
   ]
  },
  {
   "cell_type": "markdown",
   "id": "b5a939c4",
   "metadata": {},
   "source": [
    "4. Genera una función que calcule la diferencia entre los valores de dos listas. Usa la función map()"
   ]
  },
  {
   "cell_type": "code",
   "execution_count": 6,
   "id": "dbcafabd",
   "metadata": {},
   "outputs": [
    {
     "name": "stdout",
     "output_type": "stream",
     "text": [
      "Diferencia: [9, 18, 27]\n"
     ]
    }
   ],
   "source": [
    "def diferencia_listas(lista1, lista2):\n",
    "    \"\"\"\n",
    "    Calcula la diferencia elemento a elemento entre dos listas.\n",
    "    :param lista1: lista de números\n",
    "    :param lista2: lista de números\n",
    "    :return: lista con las diferencias\n",
    "    \"\"\"\n",
    "    return list(map(lambda x, y: x - y, lista1, lista2))\n",
    "\n",
    "l1 = [10, 20, 30]\n",
    "l2 = [1, 2, 3]\n",
    "print(\"Diferencia:\", diferencia_listas(l1, l2))\n"
   ]
  },
  {
   "cell_type": "markdown",
   "id": "2be9f5d2",
   "metadata": {},
   "source": [
    "5. Ecribe una función que tome una lista de números como parámetro y un valor opcional nota_aprobado, que por defecto es 5. La función debe calcular la media de los números en la lista y determinar si la media es mayor o igual que nota aprobado. Si es así, el estado será \"aprobado\", de lo contrario, será \"suspenso\". La función debe devolver una tupla que contenga la media y el estado."
   ]
  },
  {
   "cell_type": "code",
   "execution_count": 7,
   "id": "b48018d8",
   "metadata": {},
   "outputs": [
    {
     "name": "stdout",
     "output_type": "stream",
     "text": [
      "(5.666666666666667, 'aprobado')\n",
      "(3.0, 'suspenso')\n"
     ]
    }
   ],
   "source": [
    "def evaluar_notas(notas, nota_aprobado=5):\n",
    "    \"\"\"\n",
    "    Calcula la media de las notas y determina si se aprueba o suspende.\n",
    "    :param notas: lista de números\n",
    "    :param nota_aprobado: valor mínimo para aprobar (default=5)\n",
    "    :return: tupla (media, estado)\n",
    "    \"\"\"\n",
    "    media = sum(notas) / len(notas) if notas else 0\n",
    "    estado = \"aprobado\" if media >= nota_aprobado else \"suspenso\"\n",
    "    return media, estado\n",
    "\n",
    "print(evaluar_notas([4, 6, 7]))\n",
    "print(evaluar_notas([2, 3, 4]))"
   ]
  },
  {
   "cell_type": "markdown",
   "id": "74665c1e",
   "metadata": {},
   "source": [
    "6. Escribe una función que calcule el factorial de un número de manera recursiva. "
   ]
  },
  {
   "cell_type": "code",
   "execution_count": 8,
   "id": "4875ed68",
   "metadata": {},
   "outputs": [
    {
     "name": "stdout",
     "output_type": "stream",
     "text": [
      "Factorial de 5: 120\n",
      "Factorial de 0: 1\n"
     ]
    }
   ],
   "source": [
    "def factorial(n):\n",
    "    \"\"\"\n",
    "    Calcula el factorial de un número de manera recursiva.\n",
    "    :param n: número entero no negativo\n",
    "    :return: factorial de n\n",
    "    \"\"\"\n",
    "    if n == 0 or n == 1:\n",
    "        return 1\n",
    "    return n * factorial(n - 1)\n",
    "\n",
    "print(\"Factorial de 5:\", factorial(5))\n",
    "print(\"Factorial de 0:\", factorial(0))\n"
   ]
  },
  {
   "cell_type": "markdown",
   "id": "f1ed5450",
   "metadata": {},
   "source": [
    "7. Genera una función que convierta una lista de tuplas a una lista de strings. Usa la función map() "
   ]
  },
  {
   "cell_type": "code",
   "execution_count": null,
   "id": "932af2f3",
   "metadata": {},
   "outputs": [
    {
     "name": "stdout",
     "output_type": "stream",
     "text": [
      "['1 2', 'hola mundo', 'python 3']\n"
     ]
    }
   ],
   "source": [
    "def tuplas_a_strings(lista_tuplas):\n",
    "    \"\"\"\n",
    "    Convierte una lista de tuplas en una lista de strings.\n",
    "    :param lista_tuplas: lista de tuplas\n",
    "    :return: lista de strings\n",
    "    \"\"\"\n",
    "    return list(map(lambda t: \" \".join(map(str, t)), lista_tuplas))\n",
    "\n",
    "ejemplo = [(1, 2), (\"buenos\", \"dias\"), (\"katas\", 3)]\n",
    "print(tuplas_a_strings(ejemplo))"
   ]
  },
  {
   "cell_type": "markdown",
   "id": "6b6ab278",
   "metadata": {},
   "source": [
    "8. Escribe un programa que pida al usuario dos números e intente dividirlos. Si el usuario ingresa un valor no numérico o intenta dividir por cero, maneja esas excepciones de manera adecuada. Asegúrate de mostrar un mensaje indicando si la división fue exitosa o no."
   ]
  },
  {
   "cell_type": "code",
   "execution_count": 10,
   "id": "0c7e7482",
   "metadata": {},
   "outputs": [
    {
     "name": "stdout",
     "output_type": "stream",
     "text": [
      "Error: No se puede dividir entre cero.\n"
     ]
    }
   ],
   "source": [
    "try:\n",
    "    num1 = float(input(\"Introduce el primer número: \"))\n",
    "    num2 = float(input(\"Introduce el segundo número: \"))\n",
    "    resultado = num1 / num2\n",
    "except ValueError:\n",
    "    print(\"Error: Debes ingresar un valor numérico.\")\n",
    "except ZeroDivisionError:\n",
    "    print(\"Error: No se puede dividir entre cero.\")\n",
    "else:\n",
    "    print(f\"La división fue exitosa. Resultado: {resultado}\")"
   ]
  },
  {
   "cell_type": "markdown",
   "id": "f06e440f",
   "metadata": {},
   "source": [
    "9. Escribe una función que tome una lista de nombres de mascotas como parámetro y devuelva una nueva lista excluyendo ciertas mascotas prohibidas en España. La lista de mascotas a excluir es [\"Mapache\", \"Tigre\", \"Serpiente Pitón\", \"Cocodrilo\", \"Oso\"].Usa la función filter() "
   ]
  },
  {
   "cell_type": "code",
   "execution_count": 11,
   "id": "c2d13d42",
   "metadata": {},
   "outputs": [
    {
     "name": "stdout",
     "output_type": "stream",
     "text": [
      "['Perro', 'Gato', 'Canario']\n"
     ]
    }
   ],
   "source": [
    "def filtrar_mascotas(lista_mascotas):\n",
    "    \"\"\"\n",
    "    Filtra mascotas prohibidas en España.\n",
    "    :param lista_mascotas: lista de strings con nombres de mascotas\n",
    "    :return: lista filtrada sin mascotas prohibidas\n",
    "    \"\"\"\n",
    "    prohibidas = [\"Mapache\", \"Tigre\", \"Serpiente Pitón\", \"Cocodrilo\", \"Oso\"]\n",
    "    return list(filter(lambda m: m not in prohibidas, lista_mascotas))\n",
    "\n",
    "mascotas = [\"Perro\", \"Gato\", \"Mapache\", \"Canario\", \"Tigre\"]\n",
    "print(filtrar_mascotas(mascotas))\n"
   ]
  },
  {
   "cell_type": "markdown",
   "id": "f60f1e7a",
   "metadata": {},
   "source": [
    "10. Escribe una función que reciba una lista de números y calcule su promedio. Si la lista está vacía, lanza una excepción personalizada y maneja el error adecuadamente."
   ]
  },
  {
   "cell_type": "code",
   "execution_count": 12,
   "id": "c855406d",
   "metadata": {},
   "outputs": [
    {
     "name": "stdout",
     "output_type": "stream",
     "text": [
      "20.0\n",
      "Error: La lista está vacía, no se puede calcular el promedio.\n"
     ]
    }
   ],
   "source": [
    "class ListaVaciaError(Exception):\n",
    "    \"\"\"Excepción personalizada para listas vacías.\"\"\"\n",
    "    pass\n",
    "\n",
    "def promedio(lista):\n",
    "    \"\"\"\n",
    "    Calcula el promedio de una lista de números.\n",
    "    :param lista: lista de números\n",
    "    :return: promedio\n",
    "    \"\"\"\n",
    "    if not lista:\n",
    "        raise ListaVaciaError(\"La lista está vacía, no se puede calcular el promedio.\")\n",
    "    return sum(lista) / len(lista)\n",
    "\n",
    "try:\n",
    "    print(promedio([10, 20, 30]))\n",
    "    print(promedio([]))  # Lanza excepción\n",
    "except ListaVaciaError as e:\n",
    "    print(\"Error:\", e)"
   ]
  },
  {
   "cell_type": "markdown",
   "id": "ec7250cd",
   "metadata": {},
   "source": [
    "11. Escribe un programa que pida al usuario que introduzca su edad. Si el usuario ingresa un valor no numérico o un valor fuera del rango esperado (por ejemplo, menor que 0 o mayor que 120), maneja las excepciones adecuadamente."
   ]
  },
  {
   "cell_type": "code",
   "execution_count": 13,
   "id": "039bfe8a",
   "metadata": {},
   "outputs": [
    {
     "name": "stdout",
     "output_type": "stream",
     "text": [
      "Tu edad es 33 años.\n"
     ]
    }
   ],
   "source": [
    "try:\n",
    "    edad = int(input(\"Introduce tu edad: \"))\n",
    "    if edad < 0 or edad > 120:\n",
    "        raise ValueError(\"La edad debe estar entre 0 y 120.\")\n",
    "except ValueError as e:\n",
    "    print(\"Error:\", e)\n",
    "else:\n",
    "    print(f\"Tu edad es {edad} años.\")"
   ]
  },
  {
   "cell_type": "markdown",
   "id": "2aa089eb",
   "metadata": {},
   "source": [
    "12. Genera una función que al recibir una frase devuelva una lista con la longitud de cada palabra. Usa la función map()"
   ]
  },
  {
   "cell_type": "code",
   "execution_count": 22,
   "id": "825a5d08",
   "metadata": {},
   "outputs": [
    {
     "name": "stdout",
     "output_type": "stream",
     "text": [
      "[7, 5, 2, 7, 5, 2, 2, 13, 2, 7]\n"
     ]
    }
   ],
   "source": [
    "def longitudes_palabras(frase):\n",
    "    \"\"\"\n",
    "    Devuelve una lista con la longitud de cada palabra en la frase.\n",
    "    :param frase: string con palabras separadas por espacios\n",
    "    :return: lista de longitudes\n",
    "    \"\"\"\n",
    "    palabras = frase.split()\n",
    "    return list(map(len, palabras))\n",
    "\n",
    "print(longitudes_palabras(\"Ecuador quedó en segundo lugar de la clasificación al mundial\"))"
   ]
  },
  {
   "cell_type": "markdown",
   "id": "1b115155",
   "metadata": {},
   "source": [
    "13. Genera una función la cual, para un conjunto de caracteres, devuelva una lista de tuplas con cada letra en mayúsculas y minúsculas. Las letras no pueden estar repetidas .Usa la función map() filter() map() "
   ]
  },
  {
   "cell_type": "code",
   "execution_count": 14,
   "id": "edd60117",
   "metadata": {},
   "outputs": [
    {
     "name": "stdout",
     "output_type": "stream",
     "text": [
      "[('L', 'l'), ('D', 'd'), ('A', 'a'), ('U', 'u'), ('N', 'n'), ('O', 'o'), ('M', 'm'), ('H', 'h')]\n"
     ]
    }
   ],
   "source": [
    "def mayus_minus(conjunto_caracteres):\n",
    "    \"\"\"\n",
    "    Devuelve lista de tuplas con cada letra en mayúscula y minúscula.\n",
    "    Se eliminan duplicados.\n",
    "    :param caracteres: iterable con caracteres\n",
    "    :return: lista de tuplas (mayúscula, minúscula)\n",
    "    \"\"\"\n",
    "    # Quitamos duplicados convirtiendo a conjunto\n",
    "    unicos = set(conjunto_caracteres)\n",
    "    # Usamos map para generar tuplas (mayúscula, minúscula)\n",
    "    return list(map(lambda c: (c.upper(), c.lower()), unicos))\n",
    "\n",
    "print(mayus_minus(\"holaMundo\"))"
   ]
  },
  {
   "cell_type": "markdown",
   "id": "52d41b0d",
   "metadata": {},
   "source": [
    "14. Crea una función que retorne las palabras de una lista de palabras que comience con una letra en especifico. Usa la función map()"
   ]
  },
  {
   "cell_type": "code",
   "execution_count": 15,
   "id": "811f0e3d",
   "metadata": {},
   "outputs": [
    {
     "name": "stdout",
     "output_type": "stream",
     "text": [
      "['manzana', 'mesa', 'moto']\n"
     ]
    }
   ],
   "source": [
    "def palabras_con_letra(lista_palabras, letra):\n",
    "    \"\"\"\n",
    "    Retorna palabras que comienzan con una letra dada.\n",
    "    :param lista_palabras: lista de strings\n",
    "    :param letra: letra inicial a filtrar\n",
    "    :return: lista de palabras que empiezan con la letra\n",
    "    \"\"\"\n",
    "    return list(filter(lambda p: p.lower().startswith(letra.lower()), lista_palabras))\n",
    "\n",
    "palabras = [\"manzana\", \"mesa\", \"perro\", \"moto\", \"gato\"]\n",
    "print(palabras_con_letra(palabras, \"m\"))"
   ]
  },
  {
   "cell_type": "markdown",
   "id": "ce13431d",
   "metadata": {},
   "source": [
    "15. Crea una función lambda que  sume 3 a cada número de una lista dada. "
   ]
  },
  {
   "cell_type": "code",
   "execution_count": 16,
   "id": "1549adc5",
   "metadata": {},
   "outputs": [
    {
     "name": "stdout",
     "output_type": "stream",
     "text": [
      "[4, 5, 6, 7, 8]\n"
     ]
    }
   ],
   "source": [
    "sumar_tres = lambda lista: list(map(lambda x: x + 3, lista))\n",
    "\n",
    "print(sumar_tres([1, 2, 3, 4, 5]))"
   ]
  },
  {
   "cell_type": "markdown",
   "id": "4c87734e",
   "metadata": {},
   "source": [
    "16. Escribe una función que tome una cadena de texto y un número entero n como parámetros y devuelva una lista de todas las palabras que sean más largas que n. Usa la función filter() "
   ]
  },
  {
   "cell_type": "code",
   "execution_count": 18,
   "id": "2c75f0a9",
   "metadata": {},
   "outputs": [
    {
     "name": "stdout",
     "output_type": "stream",
     "text": [
      "['madrid', 'experiencia']\n"
     ]
    }
   ],
   "source": [
    "def palabras_largas(texto, n):\n",
    "    \"\"\"\n",
    "    Filtra palabras de un texto que tienen longitud mayor a n.\n",
    "    :param texto: string con varias palabras\n",
    "    :param n: longitud mínima\n",
    "    :return: lista de palabras largas\n",
    "    \"\"\"\n",
    "    lista_palabras = texto.split()\n",
    "    return list(filter(lambda p: len(p) > n, lista_palabras))\n",
    "\n",
    "print(palabras_largas(\"Vivir en madrid es una experiencia única\", 5))"
   ]
  },
  {
   "cell_type": "markdown",
   "id": "868b9b33",
   "metadata": {},
   "source": [
    "17. Crea una función que tome una lista de dígitos y devuelva el número correspondiente. Por ejemplo, [5,7,2] corresponde al número quinientos setenta y dos (572). Usa la función reduce()"
   ]
  },
  {
   "cell_type": "code",
   "execution_count": 19,
   "id": "004b6614",
   "metadata": {},
   "outputs": [
    {
     "name": "stdout",
     "output_type": "stream",
     "text": [
      "572\n"
     ]
    }
   ],
   "source": [
    "from functools import reduce\n",
    "\n",
    "def lista_a_numero(digitos):\n",
    "    \"\"\"\n",
    "    Convierte una lista de dígitos en el número entero correspondiente.\n",
    "    :param digitos: lista de enteros entre 0 y 9\n",
    "    :return: número entero\n",
    "    \"\"\"\n",
    "    return reduce(lambda acc, d: acc * 10 + d, digitos)\n",
    "\n",
    "print(lista_a_numero([5, 7, 2]))"
   ]
  },
  {
   "cell_type": "markdown",
   "id": "883ffc63",
   "metadata": {},
   "source": [
    "18. Escribe un programa en Python que cree una lista de diccionarios que contenga información de estudiantes (nombre, edad, calificación) y use la función filter para extraer a los estudiantes con una calificación mayor o igual a 90. Usa la función filter() "
   ]
  },
  {
   "cell_type": "code",
   "execution_count": 23,
   "id": "71ac1187",
   "metadata": {},
   "outputs": [
    {
     "name": "stdout",
     "output_type": "stream",
     "text": [
      "[{'nombre': 'Ana', 'edad': 20, 'calificacion': 95}, {'nombre': 'Marta', 'edad': 21, 'calificacion': 90}]\n"
     ]
    }
   ],
   "source": [
    "# Creamos una lista de diccionarios con información de estudiantes\n",
    "# y usamos filter() para extraer los que tienen calificación >= 90\n",
    "\n",
    "estudiantes = [\n",
    "    {\"nombre\": \"Ana\", \"edad\": 20, \"calificacion\": 95},\n",
    "    {\"nombre\": \"Luis\", \"edad\": 22, \"calificacion\": 85},\n",
    "    {\"nombre\": \"Marta\", \"edad\": 21, \"calificacion\": 90},\n",
    "    {\"nombre\": \"Juan\", \"edad\": 23, \"calificacion\": 70}\n",
    "]\n",
    "\n",
    "estudiantes_excelentes = list(filter(lambda e: e[\"calificacion\"] >= 90, estudiantes))\n",
    "print(estudiantes_excelentes)\n"
   ]
  },
  {
   "cell_type": "markdown",
   "id": "ec1943e3",
   "metadata": {},
   "source": [
    "19. Crea una función lambda que filtre los números impares de una lista dada. "
   ]
  },
  {
   "cell_type": "code",
   "execution_count": 24,
   "id": "0d89c5cc",
   "metadata": {},
   "outputs": [
    {
     "name": "stdout",
     "output_type": "stream",
     "text": [
      "[1, 3, 5, 7]\n"
     ]
    }
   ],
   "source": [
    "# Creamos una función lambda que filtre los números impares de una lista\n",
    "\n",
    "filtrar_impares = lambda lista: list(filter(lambda x: x % 2 != 0, lista))\n",
    "\n",
    "print(filtrar_impares([1, 2, 3, 4, 5, 6, 7]))\n"
   ]
  },
  {
   "cell_type": "markdown",
   "id": "001886d2",
   "metadata": {},
   "source": [
    "20. Para una lista con elementos tipo integer y string obtén una nueva lista sólo con los valores int. Usa la función filter()"
   ]
  },
  {
   "cell_type": "code",
   "execution_count": 26,
   "id": "adb86e63",
   "metadata": {},
   "outputs": [
    {
     "name": "stdout",
     "output_type": "stream",
     "text": [
      "[1, 3, 5, 7]\n"
     ]
    }
   ],
   "source": [
    "# Filtramos solo los valores enteros de una lista que contiene enteros y strings\n",
    "\n",
    "solo_enteros = lambda lista: list(filter(lambda x: isinstance(x, int), lista))\n",
    "\n",
    "print(solo_enteros([1, \"entrega\", 3, \"katas\", 5, 7, \"python\"]))\n"
   ]
  },
  {
   "cell_type": "markdown",
   "id": "6dbcd1c1",
   "metadata": {},
   "source": [
    "21. Crea una función que calcule el cubo de un número dado mediante una función lambda "
   ]
  },
  {
   "cell_type": "code",
   "execution_count": 27,
   "id": "43b9a24c",
   "metadata": {},
   "outputs": [
    {
     "name": "stdout",
     "output_type": "stream",
     "text": [
      "27\n",
      "125\n"
     ]
    }
   ],
   "source": [
    "# Creamos una función que calcule el cubo de un número usando una lambda\n",
    "\n",
    "cubo = lambda x: x ** 3\n",
    "\n",
    "print(cubo(3))\n",
    "print(cubo(5))\n"
   ]
  },
  {
   "cell_type": "markdown",
   "id": "fb71c3a2",
   "metadata": {},
   "source": [
    "22. Dada una lista numérica, obtén el producto total de los valores de dicha lista.Usa la función reduce() . "
   ]
  },
  {
   "cell_type": "code",
   "execution_count": 28,
   "id": "40c8a811",
   "metadata": {},
   "outputs": [
    {
     "name": "stdout",
     "output_type": "stream",
     "text": [
      "120\n"
     ]
    }
   ],
   "source": [
    "# Obtenemos el producto total de los valores de una lista usando reduce()\n",
    "\n",
    "from functools import reduce\n",
    "\n",
    "numeros = [2, 3, 4, 5]\n",
    "producto_total = reduce(lambda x, y: x * y, numeros)\n",
    "\n",
    "print(producto_total)\n"
   ]
  },
  {
   "cell_type": "markdown",
   "id": "43f4368c",
   "metadata": {},
   "source": [
    "23. Concatena una lista de palabras.Usa la función reduce() . "
   ]
  },
  {
   "cell_type": "code",
   "execution_count": 29,
   "id": "3f8119bb",
   "metadata": {},
   "outputs": [
    {
     "name": "stdout",
     "output_type": "stream",
     "text": [
      "Hola mundo en Python\n"
     ]
    }
   ],
   "source": [
    "# Concatenamos una lista de palabras usando reduce()\n",
    "\n",
    "from functools import reduce\n",
    "\n",
    "palabras = [\"Hola\", \"mundo\", \"en\", \"Python\"]\n",
    "frase = reduce(lambda x, y: x + \" \" + y, palabras)\n",
    "\n",
    "print(frase)\n"
   ]
  },
  {
   "cell_type": "markdown",
   "id": "24c94fe8",
   "metadata": {},
   "source": [
    "24. Calcula la diferencia total en los valores de una lista. Usa la función reduce() . "
   ]
  },
  {
   "cell_type": "code",
   "execution_count": 30,
   "id": "9203b221",
   "metadata": {},
   "outputs": [
    {
     "name": "stdout",
     "output_type": "stream",
     "text": [
      "65\n"
     ]
    }
   ],
   "source": [
    "# Calculamos la diferencia total en los valores de una lista usando reduce()\n",
    "# (resta acumulada de izquierda a derecha)\n",
    "\n",
    "from functools import reduce\n",
    "\n",
    "numeros = [100, 20, 10, 5]\n",
    "diferencia_total = reduce(lambda x, y: x - y, numeros)\n",
    "\n",
    "print(diferencia_total)\n"
   ]
  },
  {
   "cell_type": "markdown",
   "id": "ab4e3014",
   "metadata": {},
   "source": [
    "25. Crea una función que cuente el número de caracteres en una cadena de texto dada. "
   ]
  },
  {
   "cell_type": "code",
   "execution_count": 31,
   "id": "9fa453f2",
   "metadata": {},
   "outputs": [
    {
     "name": "stdout",
     "output_type": "stream",
     "text": [
      "38\n"
     ]
    }
   ],
   "source": [
    "# Creamos una función que cuente el número de caracteres en una cadena de texto\n",
    "\n",
    "def contar_caracteres(texto):\n",
    "    \"\"\"\n",
    "    Devuelve el número de caracteres en una cadena.\n",
    "    \"\"\"\n",
    "    return len(texto)\n",
    "\n",
    "print(contar_caracteres(\"Estoy en la tercera parte del proyecto\"))\n"
   ]
  },
  {
   "cell_type": "markdown",
   "id": "14f0205d",
   "metadata": {},
   "source": [
    "26. Crea una función lambda que calcule el resto de la división entre dos números dados. "
   ]
  },
  {
   "cell_type": "code",
   "execution_count": 32,
   "id": "d9ce72cf",
   "metadata": {},
   "outputs": [
    {
     "name": "stdout",
     "output_type": "stream",
     "text": [
      "1\n",
      "4\n"
     ]
    }
   ],
   "source": [
    "# Creamos una función lambda que calcule el resto de la división entre dos números\n",
    "\n",
    "resto = lambda x, y: x % y\n",
    "\n",
    "print(resto(10, 3))\n",
    "print(resto(25, 7))\n"
   ]
  },
  {
   "cell_type": "markdown",
   "id": "86db9fbc",
   "metadata": {},
   "source": [
    "27. Crea una función que calcule el promedio de una lista de números. "
   ]
  },
  {
   "cell_type": "code",
   "execution_count": 33,
   "id": "ff98b8fe",
   "metadata": {},
   "outputs": [
    {
     "name": "stdout",
     "output_type": "stream",
     "text": [
      "25.0\n"
     ]
    }
   ],
   "source": [
    "# Creamos una función que calcule el promedio de una lista de números\n",
    "\n",
    "def promedio_lista(numeros):\n",
    "    \"\"\"\n",
    "    Calcula el promedio de una lista de números.\n",
    "    \"\"\"\n",
    "    return sum(numeros) / len(numeros) if numeros else 0\n",
    "\n",
    "print(promedio_lista([10, 20, 30, 40]))\n"
   ]
  },
  {
   "cell_type": "markdown",
   "id": "cab86977",
   "metadata": {},
   "source": [
    "28. Crea una función que busque y devuelva el primer elemento duplicado en una lista dada. "
   ]
  },
  {
   "cell_type": "code",
   "execution_count": 34,
   "id": "a958b112",
   "metadata": {},
   "outputs": [
    {
     "name": "stdout",
     "output_type": "stream",
     "text": [
      "2\n",
      "None\n"
     ]
    }
   ],
   "source": [
    "# Buscamos y devolvemos el primer elemento duplicado en una lista dada\n",
    "\n",
    "def primer_duplicado(lista):\n",
    "    \"\"\"\n",
    "    Devuelve el primer elemento duplicado encontrado en la lista.\n",
    "    Si no hay duplicados, devuelve None.\n",
    "    \"\"\"\n",
    "    vistos = set()\n",
    "    for elem in lista:\n",
    "        if elem in vistos:\n",
    "            return elem\n",
    "        vistos.add(elem)\n",
    "    return None\n",
    "\n",
    "print(primer_duplicado([1, 2, 3, 4, 2, 5]))\n",
    "print(primer_duplicado([1, 2, 3, 4, 5]))\n"
   ]
  },
  {
   "cell_type": "markdown",
   "id": "652da6ac",
   "metadata": {},
   "source": [
    "29. Crea una función que convierta una variable en una cadena de texto y enmascare todos los caracteres  con el carácter '#', excepto los últimos cuatro. "
   ]
  },
  {
   "cell_type": "code",
   "execution_count": 35,
   "id": "32428b4c",
   "metadata": {},
   "outputs": [
    {
     "name": "stdout",
     "output_type": "stream",
     "text": [
      "#####6789\n",
      "#####4321\n"
     ]
    }
   ],
   "source": [
    "# Convertimos una variable en cadena de texto y enmascaramos todos los caracteres con '#'\n",
    "# excepto los últimos cuatro\n",
    "\n",
    "def enmascarar(variable):\n",
    "    \"\"\"\n",
    "    Convierte el valor en string y enmascara con '#' todos los caracteres\n",
    "    excepto los últimos 4.\n",
    "    \"\"\"\n",
    "    texto = str(variable)\n",
    "    return \"#\" * (len(texto) - 4) + texto[-4:]\n",
    "\n",
    "print(enmascarar(\"123456789\"))\n",
    "print(enmascarar(987654321))\n"
   ]
  },
  {
   "cell_type": "markdown",
   "id": "0e71b0bb",
   "metadata": {},
   "source": [
    "30. Crea una función que determine si dos palabras son anagramas, es decir, si están formadas por las mismas letras pero en diferente orden. "
   ]
  },
  {
   "cell_type": "code",
   "execution_count": 37,
   "id": "736baa87",
   "metadata": {},
   "outputs": [
    {
     "name": "stdout",
     "output_type": "stream",
     "text": [
      "True\n",
      "False\n"
     ]
    }
   ],
   "source": [
    "# Determinamos si dos palabras son anagramas\n",
    "\n",
    "def son_anagramas(palabra1, palabra2):\n",
    "    \"\"\"\n",
    "    Verifica si dos palabras son anagramas (formadas por las mismas letras en distinto orden).\n",
    "    \"\"\"\n",
    "    return sorted(palabra1.lower()) == sorted(palabra2.lower())\n",
    "\n",
    "print(son_anagramas(\"Roma\", \"Amor\"))\n",
    "print(son_anagramas(\"Hola\", \"Ramon\"))\n"
   ]
  },
  {
   "cell_type": "markdown",
   "id": "c45d6fd4",
   "metadata": {},
   "source": [
    "31. Crea una función que solicite al usuario ingresar una lista de nombres y luego solicite un nombre para buscar en esa lista. Si el nombre está en la lista, se imprime un mensaje indicando que fue encontrado, de lo contrario, se lanza una excepción. "
   ]
  },
  {
   "cell_type": "code",
   "execution_count": 38,
   "id": "53c8f008",
   "metadata": {},
   "outputs": [
    {
     "name": "stdout",
     "output_type": "stream",
     "text": [
      "El nombre 'Nicolas' fue encontrado en la lista.\n"
     ]
    }
   ],
   "source": [
    "# Solicitamos al usuario una lista de nombres y un nombre a buscar.\n",
    "# Si no se encuentra, lanzamos una excepción.\n",
    "\n",
    "try:\n",
    "    nombres = input(\"Introduce una lista de nombres separados por comas: \").split(\",\")\n",
    "    nombre_buscar = input(\"Introduce el nombre a buscar: \")\n",
    "    if nombre_buscar.strip() not in [n.strip() for n in nombres]:\n",
    "        raise ValueError(\"El nombre no se encuentra en la lista.\")\n",
    "except ValueError as e:\n",
    "    print(\"Error:\", e)\n",
    "else:\n",
    "    print(f\"El nombre '{nombre_buscar}' fue encontrado en la lista.\")\n"
   ]
  },
  {
   "cell_type": "markdown",
   "id": "2217dfdc",
   "metadata": {},
   "source": [
    "32. Crea una función que tome un nombre completo y una lista de empleados, busque el nombre completo en la lista y devuelve el puesto del empleado si está en la lista, de lo contrario, devuelve un mensaje indicando que la persona no trabaja aquí."
   ]
  },
  {
   "cell_type": "code",
   "execution_count": 39,
   "id": "f7ed8434",
   "metadata": {},
   "outputs": [
    {
     "name": "stdout",
     "output_type": "stream",
     "text": [
      "Gerente\n",
      "La persona no trabaja aquí.\n"
     ]
    }
   ],
   "source": [
    "# Buscamos un nombre completo en una lista de empleados y devolvemos su puesto.\n",
    "# Si no está, devolvemos un mensaje de que no trabaja aquí.\n",
    "\n",
    "def buscar_empleado(nombre_completo, empleados):\n",
    "    \"\"\"\n",
    "    Busca un empleado en la lista y devuelve su puesto.\n",
    "    :param nombre_completo: string\n",
    "    :param empleados: lista de diccionarios con {\"nombre\": str, \"puesto\": str}\n",
    "    \"\"\"\n",
    "    for empleado in empleados:\n",
    "        if empleado[\"nombre\"].lower() == nombre_completo.lower():\n",
    "            return empleado[\"puesto\"]\n",
    "    return \"La persona no trabaja aquí.\"\n",
    "\n",
    "empleados = [\n",
    "    {\"nombre\": \"Jose Sempertegui\", \"puesto\": \"Analista\"},\n",
    "    {\"nombre\": \"Nicolas Ordoñez\", \"puesto\": \"Gerente\"},\n",
    "    {\"nombre\": \"Esther Bazo\", \"puesto\": \"Desarrollador\"}\n",
    "]\n",
    "\n",
    "print(buscar_empleado(\"Nicolas Ordoñez\", empleados))\n",
    "print(buscar_empleado(\"Jaime Torres\", empleados))\n"
   ]
  },
  {
   "cell_type": "markdown",
   "id": "7641961e",
   "metadata": {},
   "source": [
    "33. Crea una función lambda que sume elementos correspondientes de dos listas dadas. "
   ]
  },
  {
   "cell_type": "code",
   "execution_count": 40,
   "id": "f01f740a",
   "metadata": {},
   "outputs": [
    {
     "name": "stdout",
     "output_type": "stream",
     "text": [
      "[5, 7, 9]\n"
     ]
    }
   ],
   "source": [
    "# Creamos una función lambda que sume elementos correspondientes de dos listas dadas\n",
    "\n",
    "sumar_listas = lambda lista1, lista2: list(map(lambda x, y: x + y, lista1, lista2))\n",
    "\n",
    "print(sumar_listas([1, 2, 3], [4, 5, 6]))\n"
   ]
  },
  {
   "cell_type": "markdown",
   "id": "2b08df1a",
   "metadata": {},
   "source": [
    "34. Crea la clase Arbol , define un árbol genérico con un tronco y ramas como atributos. Los métodos disponibles son: crecer_tronco , nueva_rama , crecer_ramas , quitar_rama e info_arbol . El objetivo es implementar estos métodos para manipular la estructura del árbol. \n",
    "\n",
    "**Código a seguir:**  \n",
    "1.Inicializar un árbol con un tronco de longitud 1 y una lista vacía de ramas.   \n",
    "2.Implementar el método crecer_tronco para aumentar la longitud del tronco en una unidad.   \n",
    "3.Implementar el método nueva_rama para agregar una nueva rama de longitud 1 a la lista de ramas.   \n",
    "4.Implementar el método crecer_ramas para aumentar en una unidad la longitud de todas las ramas existentes.   \n",
    "5.Implementar el método quitar_rama para eliminar una rama en una posición específica.   \n",
    "6.Implementar el método info_arbol para devolver información sobre la longitud del tronco, el número de ramas y las longitudes de las mismas. \n",
    "\n",
    "**Caso de uso:**\n",
    "1. Crear un árbol.\n",
    "2. Hacer crecer el tronco del árbol una unidad. \n",
    "3. Añadir una nueva rama al árbol. \n",
    "4. Hacer crecer todas las ramas del árbol una unidad. \n",
    "5. Añadir dos nuevas ramas al árbol. \n",
    "6. Retirar la rama situada en la posición 2. \n",
    "7. Obtener información sobre el árbol."
   ]
  },
  {
   "cell_type": "code",
   "execution_count": 41,
   "id": "a5cde9f9",
   "metadata": {},
   "outputs": [
    {
     "name": "stdout",
     "output_type": "stream",
     "text": [
      "{'tronco': 2, 'numero_ramas': 2, 'longitudes_ramas': [2, 1]}\n"
     ]
    }
   ],
   "source": [
    "# Definimos la clase Arbol con métodos para manipular su tronco y ramas\n",
    "\n",
    "class Arbol:\n",
    "    def __init__(self):\n",
    "        self.tronco = 1\n",
    "        self.ramas = []\n",
    "\n",
    "    def crecer_tronco(self):\n",
    "        self.tronco += 1\n",
    "\n",
    "    def nueva_rama(self):\n",
    "        self.ramas.append(1)\n",
    "\n",
    "    def crecer_ramas(self):\n",
    "        self.ramas = [rama + 1 for rama in self.ramas]\n",
    "\n",
    "    def quitar_rama(self, indice):\n",
    "        if 0 <= indice < len(self.ramas):\n",
    "            self.ramas.pop(indice)\n",
    "\n",
    "    def info_arbol(self):\n",
    "        return {\n",
    "            \"tronco\": self.tronco,\n",
    "            \"numero_ramas\": len(self.ramas),\n",
    "            \"longitudes_ramas\": self.ramas\n",
    "        }\n",
    "\n",
    "# Caso de uso\n",
    "arbol = Arbol()\n",
    "arbol.crecer_tronco()\n",
    "arbol.nueva_rama()\n",
    "arbol.crecer_ramas()\n",
    "arbol.nueva_rama()\n",
    "arbol.nueva_rama()\n",
    "arbol.quitar_rama(2)\n",
    "print(arbol.info_arbol())\n"
   ]
  },
  {
   "cell_type": "markdown",
   "id": "7e9c009d",
   "metadata": {},
   "source": [
    "36. Crea la clase UsuarioBanco ,representa a un usuario de un banco con su nombre, saldo y si tiene o no cuenta corriente. Proporciona métodos para realizar operaciones como retirar dinero, transferir dinero desde otro usuario y agregar dinero al saldo. \n",
    "\n",
    "**Código a seguir:**  \n",
    "1.Inicializar un usuario con su nombre, saldo y si tiene o no cuenta corriente mediante True y False  \n",
    "\n",
    "2.Implementar el método retirar_dinero para retirar dinero del saldo del usuario. Lanzará un error en caso de no poder hacerse. \n",
    "\n",
    "3.Implementar el método transferir_dinero para realizar una transferencia desde otro usuario al usuario actual. Lanzará un error en caso de no poder hacerse.  \n",
    "\n",
    "4.Implementar el método agregar_dinero para agregar dinero al saldo del usuario.\n",
    "\n",
    "**Caso de uso:**  \n",
    "1.Crear dos usuarios: \"Alicia\" con saldo inicial de 100 y \"Bob\" con saldo inicial de 50, ambos con cuenta corriente.     \n",
    "2.Agregar 20 unidades de saldo de \"Bob\".   \n",
    "3.Hacer una transferencia de 80 unidades desde \"Bob\" a \"Alicia\".    \n",
    "4.Retirar 50 unidades de saldo a \"Alicia\"."
   ]
  },
  {
   "cell_type": "code",
   "execution_count": 42,
   "id": "47c97e4c",
   "metadata": {},
   "outputs": [
    {
     "ename": "ValueError",
     "evalue": "El usuario origen no tiene saldo suficiente.",
     "output_type": "error",
     "traceback": [
      "\u001b[1;31m---------------------------------------------------------------------------\u001b[0m",
      "\u001b[1;31mValueError\u001b[0m                                Traceback (most recent call last)",
      "Input \u001b[1;32mIn [42]\u001b[0m, in \u001b[0;36m<cell line: 28>\u001b[1;34m()\u001b[0m\n\u001b[0;32m     25\u001b[0m bob \u001b[38;5;241m=\u001b[39m UsuarioBanco(\u001b[38;5;124m\"\u001b[39m\u001b[38;5;124mBob\u001b[39m\u001b[38;5;124m\"\u001b[39m, \u001b[38;5;241m50\u001b[39m, \u001b[38;5;28;01mTrue\u001b[39;00m)\n\u001b[0;32m     27\u001b[0m bob\u001b[38;5;241m.\u001b[39magregar_dinero(\u001b[38;5;241m20\u001b[39m)\n\u001b[1;32m---> 28\u001b[0m \u001b[43malicia\u001b[49m\u001b[38;5;241;43m.\u001b[39;49m\u001b[43mtransferir_dinero\u001b[49m\u001b[43m(\u001b[49m\u001b[43mbob\u001b[49m\u001b[43m,\u001b[49m\u001b[43m \u001b[49m\u001b[38;5;241;43m80\u001b[39;49m\u001b[43m)\u001b[49m  \u001b[38;5;66;03m# Bob transfiere 80 a Alicia\u001b[39;00m\n\u001b[0;32m     29\u001b[0m alicia\u001b[38;5;241m.\u001b[39mretirar_dinero(\u001b[38;5;241m50\u001b[39m)\n\u001b[0;32m     31\u001b[0m \u001b[38;5;28mprint\u001b[39m(\u001b[38;5;124m\"\u001b[39m\u001b[38;5;124mSaldo Alicia:\u001b[39m\u001b[38;5;124m\"\u001b[39m, alicia\u001b[38;5;241m.\u001b[39msaldo)\n",
      "Input \u001b[1;32mIn [42]\u001b[0m, in \u001b[0;36mUsuarioBanco.transferir_dinero\u001b[1;34m(self, otro_usuario, cantidad)\u001b[0m\n\u001b[0;32m     14\u001b[0m \u001b[38;5;28;01mdef\u001b[39;00m \u001b[38;5;21mtransferir_dinero\u001b[39m(\u001b[38;5;28mself\u001b[39m, otro_usuario, cantidad):\n\u001b[0;32m     15\u001b[0m     \u001b[38;5;28;01mif\u001b[39;00m cantidad \u001b[38;5;241m>\u001b[39m otro_usuario\u001b[38;5;241m.\u001b[39msaldo:\n\u001b[1;32m---> 16\u001b[0m         \u001b[38;5;28;01mraise\u001b[39;00m \u001b[38;5;167;01mValueError\u001b[39;00m(\u001b[38;5;124m\"\u001b[39m\u001b[38;5;124mEl usuario origen no tiene saldo suficiente.\u001b[39m\u001b[38;5;124m\"\u001b[39m)\n\u001b[0;32m     17\u001b[0m     otro_usuario\u001b[38;5;241m.\u001b[39msaldo \u001b[38;5;241m-\u001b[39m\u001b[38;5;241m=\u001b[39m cantidad\n\u001b[0;32m     18\u001b[0m     \u001b[38;5;28mself\u001b[39m\u001b[38;5;241m.\u001b[39msaldo \u001b[38;5;241m+\u001b[39m\u001b[38;5;241m=\u001b[39m cantidad\n",
      "\u001b[1;31mValueError\u001b[0m: El usuario origen no tiene saldo suficiente."
     ]
    }
   ],
   "source": [
    "# Definimos la clase UsuarioBanco para manejar operaciones de saldo\n",
    "\n",
    "class UsuarioBanco:\n",
    "    def __init__(self, nombre, saldo, cuenta_corriente=True):\n",
    "        self.nombre = nombre\n",
    "        self.saldo = saldo\n",
    "        self.cuenta_corriente = cuenta_corriente\n",
    "\n",
    "    def retirar_dinero(self, cantidad):\n",
    "        if cantidad > self.saldo:\n",
    "            raise ValueError(\"Saldo insuficiente.\")\n",
    "        self.saldo -= cantidad\n",
    "\n",
    "    def transferir_dinero(self, otro_usuario, cantidad):\n",
    "        if cantidad > otro_usuario.saldo:\n",
    "            raise ValueError(\"El usuario origen no tiene saldo suficiente.\")\n",
    "        otro_usuario.saldo -= cantidad\n",
    "        self.saldo += cantidad\n",
    "\n",
    "    def agregar_dinero(self, cantidad):\n",
    "        self.saldo += cantidad\n",
    "\n",
    "# Caso de uso\n",
    "alicia = UsuarioBanco(\"Alicia\", 100, True)\n",
    "bob = UsuarioBanco(\"Bob\", 50, True)\n",
    "\n",
    "bob.agregar_dinero(20)\n",
    "alicia.transferir_dinero(bob, 80)  # Bob transfiere 80 a Alicia\n",
    "alicia.retirar_dinero(50)\n",
    "\n",
    "print(\"Saldo Alicia:\", alicia.saldo)\n",
    "print(\"Saldo Bob:\", bob.saldo)\n"
   ]
  },
  {
   "cell_type": "markdown",
   "id": "8df7b7df",
   "metadata": {},
   "source": [
    "37. Crea una función llamada procesar_texto que procesa un texto según la opción especificada: reemplazar_palabras , procesar_texto . contar_palabras , eliminar_palabra . Estas opciones son otras funciones que tenemos que definir primero y llamar dentro de la función \n",
    "\n",
    "**Código a seguir:**\n",
    "\n",
    "1.Crear una función contar_palabras para contar el número de veces que aparece cada palabra en el texto. Tiene que devolver un diccionario.    \n",
    "2.Crear una función reemplazar_palabras para remplazar una que devolver el texto con el remplazo de palabras.   \n",
    "3.Crear una función palabra_original del texto por una palabra_nueva . Tiene eliminar_palabra para eliminar una palabra del texto. Tiene que devolver el texto con la palabra eliminada.  \n",
    "4.Crear la función procesar_texto que tome un texto, una opción(entre \"contar\", \"reemplazar\", \"eliminar\") y un número de argumentos variable según la opción indicada. \n",
    "\n",
    "**Caso de uso:**\n",
    " Comprueba el funcionamiento completo de la función procesar_texto"
   ]
  },
  {
   "cell_type": "code",
   "execution_count": 43,
   "id": "6734bf0f",
   "metadata": {},
   "outputs": [
    {
     "name": "stdout",
     "output_type": "stream",
     "text": [
      "{'katas': 1, 'el': 1, 'numero': 1, 'proyecto': 1, 'python': 1, 'esta': 1, 'thepower': 1, 'buenos': 1, 'dias,': 1, 'cuatro': 1, 'hola': 1, 'de': 3, 'es': 1}\n",
      "adiós buenos dias, esta es el proyecto numero cuatro de katas de python de thepower\n",
      "hola buenos dias, esta es el proyecto numero cuatro de katas de de thepower\n"
     ]
    }
   ],
   "source": [
    "# Creamos funciones para procesar un texto según diferentes opciones\n",
    "\n",
    "def contar_palabras(texto):\n",
    "    \"\"\"\n",
    "    Cuenta cuántas veces aparece cada palabra en el texto.\n",
    "    \"\"\"\n",
    "    palabras = texto.split()\n",
    "    return {p: palabras.count(p) for p in set(palabras)}\n",
    "\n",
    "def reemplazar_palabras(texto, palabra_original, palabra_nueva):\n",
    "    \"\"\"\n",
    "    Reemplaza una palabra por otra en el texto.\n",
    "    \"\"\"\n",
    "    return texto.replace(palabra_original, palabra_nueva)\n",
    "\n",
    "def eliminar_palabra(texto, palabra):\n",
    "    \"\"\"\n",
    "    Elimina una palabra del texto.\n",
    "    \"\"\"\n",
    "    return \" \".join([p for p in texto.split() if p != palabra])\n",
    "\n",
    "def procesar_texto(texto, opcion, *args):\n",
    "    \"\"\"\n",
    "    Procesa el texto según la opción indicada: contar, reemplazar o eliminar.\n",
    "    \"\"\"\n",
    "    if opcion == \"contar\":\n",
    "        return contar_palabras(texto)\n",
    "    elif opcion == \"reemplazar\":\n",
    "        return reemplazar_palabras(texto, *args)\n",
    "    elif opcion == \"eliminar\":\n",
    "        return eliminar_palabra(texto, *args)\n",
    "    else:\n",
    "        raise ValueError(\"Opción no válida.\")\n",
    "\n",
    "# Caso de uso\n",
    "texto = \"hola buenos dias, esta es el proyecto numero cuatro de katas de python de thepower\"\n",
    "print(procesar_texto(texto, \"contar\"))\n",
    "print(procesar_texto(texto, \"reemplazar\", \"hola\", \"adiós\"))\n",
    "print(procesar_texto(texto, \"eliminar\", \"python\"))\n"
   ]
  },
  {
   "cell_type": "markdown",
   "id": "feb62837",
   "metadata": {},
   "source": [
    "38. Genera un programa que nos diga si es de noche, de día o tarde según la hora proporcionada por el usuario."
   ]
  },
  {
   "cell_type": "code",
   "execution_count": 44,
   "id": "19154102",
   "metadata": {},
   "outputs": [
    {
     "name": "stdout",
     "output_type": "stream",
     "text": [
      "Es de tarde.\n"
     ]
    }
   ],
   "source": [
    "# Programa que nos dice si es de noche, de día o tarde según la hora proporcionada por el usuario\n",
    "\n",
    "try:\n",
    "    hora = int(input(\"Introduce la hora (0-23): \"))\n",
    "    if 0 <= hora < 6:\n",
    "        print(\"Es de noche.\")\n",
    "    elif 6 <= hora < 12:\n",
    "        print(\"Es de mañana.\")\n",
    "    elif 12 <= hora < 18:\n",
    "        print(\"Es de tarde.\")\n",
    "    elif 18 <= hora < 24:\n",
    "        print(\"Es de noche.\")\n",
    "    else:\n",
    "        print(\"Hora inválida.\")\n",
    "except ValueError:\n",
    "    print(\"Error: Debes ingresar un número entero.\")\n"
   ]
  },
  {
   "cell_type": "markdown",
   "id": "2091b8b0",
   "metadata": {},
   "source": [
    "39. Escribe un programa que determine qué calificación en texto tiene un alumno en base a su calificación numérica. Las reglas de calificación son: \n",
    "\n",
    "0 - 69 insuficiente   \n",
    "70 - 79 bien   \n",
    "80 - 89 muy bien   \n",
    "90 - 100 excelente"
   ]
  },
  {
   "cell_type": "code",
   "execution_count": 45,
   "id": "1e50b2af",
   "metadata": {},
   "outputs": [
    {
     "name": "stdout",
     "output_type": "stream",
     "text": [
      "Bien\n"
     ]
    }
   ],
   "source": [
    "# Programa que determina qué calificación en texto tiene un alumno en base a su calificación numérica\n",
    "\n",
    "try:\n",
    "    nota = int(input(\"Introduce la calificación (0-100): \"))\n",
    "    if 0 <= nota <= 69:\n",
    "        print(\"Insuficiente\")\n",
    "    elif 70 <= nota <= 79:\n",
    "        print(\"Bien\")\n",
    "    elif 80 <= nota <= 89:\n",
    "        print(\"Muy bien\")\n",
    "    elif 90 <= nota <= 100:\n",
    "        print(\"Excelente\")\n",
    "    else:\n",
    "        print(\"Nota fuera de rango.\")\n",
    "except ValueError:\n",
    "    print(\"Error: Debes ingresar un número entero.\")\n"
   ]
  },
  {
   "cell_type": "markdown",
   "id": "9e670045",
   "metadata": {},
   "source": [
    "40. Escribe una función que tome dos parámetros: \"triangulo\" ) y figura (una cadena que puede ser \"rectangulo\" , \"circulo\" o datos (una tupla con los datos necesarios para calcular el área de la figura)."
   ]
  },
  {
   "cell_type": "code",
   "execution_count": 46,
   "id": "11f5b994",
   "metadata": {},
   "outputs": [
    {
     "name": "stdout",
     "output_type": "stream",
     "text": [
      "20\n",
      "28.274333882308138\n",
      "12.0\n"
     ]
    }
   ],
   "source": [
    "# Función que calcula el área de diferentes figuras (rectángulo, círculo, triángulo)\n",
    "\n",
    "import math\n",
    "\n",
    "def calcular_area(figura, datos):\n",
    "    \"\"\"\n",
    "    Calcula el área según la figura.\n",
    "    :param figura: \"rectangulo\", \"circulo\" o \"triangulo\"\n",
    "    :param datos: tupla con los datos necesarios\n",
    "    \"\"\"\n",
    "    if figura == \"rectangulo\":\n",
    "        base, altura = datos\n",
    "        return base * altura\n",
    "    elif figura == \"circulo\":\n",
    "        (radio,) = datos\n",
    "        return math.pi * radio ** 2\n",
    "    elif figura == \"triangulo\":\n",
    "        base, altura = datos\n",
    "        return (base * altura) / 2\n",
    "    else:\n",
    "        raise ValueError(\"Figura no reconocida.\")\n",
    "\n",
    "print(calcular_area(\"rectangulo\", (4, 5)))\n",
    "print(calcular_area(\"circulo\", (3,)))\n",
    "print(calcular_area(\"triangulo\", (6, 4)))\n"
   ]
  },
  {
   "cell_type": "markdown",
   "id": "cd68a8a3",
   "metadata": {},
   "source": [
    "41. En este ejercicio, se te pedirá que escribas un programa en Python que utilice condicionales para determinar el monto final de una compra en una tienda en línea, después de aplicar un descuento. El programa debe hacer lo siguiente:\n",
    "\n",
    "1.Solicita al usuario que ingrese el precio original de un artículo.   \n",
    "2.Pregunta al usuario si tiene un cupón de descuento (respuesta sí o no).   \n",
    "3.Si el usuario responde que sí, solicita que ingrese el valor del cupón de descuento.   \n",
    "4.Aplica el descuento al precio original del artículo, siempre y cuando el valor del cupón sea válido (es decir, mayor a cero). Por ejemplo, descuento de 15€.   \n",
    "5.Muestra el precio final de la compra, teniendo en cuenta el descuento aplicado o sin él.   \n",
    "6.Recuerda utilizar estructuras de control de flujo como if, elif y else para llevar a cabo estas acciones en tu programa de Python.  "
   ]
  },
  {
   "cell_type": "code",
   "execution_count": null,
   "id": "edcb0d57",
   "metadata": {},
   "outputs": [
    {
     "name": "stdout",
     "output_type": "stream",
     "text": [
      "El precio final es: 25.00 €\n"
     ]
    }
   ],
   "source": [
    "# Programa que aplica un descuento a una compra si el usuario tiene cupón válido\n",
    "\n",
    "try:\n",
    "    precio = float(input(\"Introduce el precio original del artículo: \"))\n",
    "    tiene_cupon = input(\"¿Tienes un cupón de descuento? (sí/no): \").strip().lower()\n",
    "\n",
    "    if tiene_cupon == \"sí\" or tiene_cupon == \"si\": # Por si lo ingresa con tilde \n",
    "        descuento = float(input(\"Introduce el valor del cupón: \"))\n",
    "        if descuento > 0:\n",
    "            precio_final = max(precio - descuento, 0)\n",
    "        else:\n",
    "            precio_final = precio\n",
    "    else:\n",
    "        precio_final = precio\n",
    "\n",
    "    print(f\"El precio final es: {precio_final:.2f} €\")\n",
    "\n",
    "except ValueError:\n",
    "    print(\"Error: Ingresa valores numéricos válidos.\")\n"
   ]
  }
 ],
 "metadata": {
  "kernelspec": {
   "display_name": "Python (base)",
   "language": "python",
   "name": "base"
  },
  "language_info": {
   "codemirror_mode": {
    "name": "ipython",
    "version": 3
   },
   "file_extension": ".py",
   "mimetype": "text/x-python",
   "name": "python",
   "nbconvert_exporter": "python",
   "pygments_lexer": "ipython3",
   "version": "3.9.12"
  }
 },
 "nbformat": 4,
 "nbformat_minor": 5
}
